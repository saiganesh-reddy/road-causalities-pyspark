{
 "cells": [
  {
   "cell_type": "code",
   "execution_count": 114,
   "id": "e1d363f5",
   "metadata": {},
   "outputs": [],
   "source": [
    "# import findspark\n",
    "# findspark.init()"
   ]
  },
  {
   "cell_type": "code",
   "execution_count": 1,
   "id": "6da690b3",
   "metadata": {},
   "outputs": [],
   "source": [
    "import pyspark\n",
    "import numpy as np\n",
    "import pandas as pd\n",
    "from pyspark.sql import SparkSession, Window\n",
    "from pyspark.sql.functions import isnan, when, count, col, lit, trim, avg, ceil\n",
    "from pyspark.sql.types import StringType\n",
    "import matplotlib.pyplot as plt\n",
    "%matplotlib inline\n",
    "import seaborn as sns"
   ]
  },
  {
   "cell_type": "code",
   "execution_count": 3,
   "id": "defaeea6",
   "metadata": {},
   "outputs": [],
   "source": [
    "# Create the Spark environment for this project.\n",
    "spark = SparkSession.builder.master(\"local[*]\").getOrCreate()\n",
    "# sc=spark.sparkContext\n"
   ]
  },
  {
   "cell_type": "code",
   "execution_count": 4,
   "id": "d5cc4b94",
   "metadata": {},
   "outputs": [],
   "source": [
    "# Load the data and creating DataFrame using spark\n",
    "Accidents_Data = spark.read.csv(\"dft-road-casualty-statistics-accident-provisional-mid-year-unvalidated-2021.csv\",\n",
    "                      inferSchema=True,header=True)\n",
    "Causality_Data = spark.read.csv(\"dft-road-casualty-statistics-casualty-provisional-mid-year-unvalidated-2021.csv\",\n",
    "                      inferSchema=True,header=True)\n",
    "Vehicles_Data = spark.read.csv(\"dft-road-casualty-statistics-vehicle-provisional-mid-year-unvalidated-2021.csv\",\n",
    "                      inferSchema=True,header=True)"
   ]
  },
  {
   "cell_type": "code",
   "execution_count": 5,
   "id": "de5c3253",
   "metadata": {},
   "outputs": [
    {
     "data": {
      "text/plain": [
       "53174"
      ]
     },
     "execution_count": 5,
     "metadata": {},
     "output_type": "execute_result"
    }
   ],
   "source": [
    "#Counting No of rows in a dataframe\n",
    "Causality_Data.count()"
   ]
  },
  {
   "cell_type": "code",
   "execution_count": 6,
   "id": "a9872209",
   "metadata": {},
   "outputs": [
    {
     "data": {
      "text/plain": [
       "42358"
      ]
     },
     "execution_count": 6,
     "metadata": {},
     "output_type": "execute_result"
    }
   ],
   "source": [
    "Accidents_Data.count()"
   ]
  },
  {
   "cell_type": "code",
   "execution_count": 7,
   "id": "0367577c",
   "metadata": {},
   "outputs": [
    {
     "data": {
      "text/plain": [
       "78411"
      ]
     },
     "execution_count": 7,
     "metadata": {},
     "output_type": "execute_result"
    }
   ],
   "source": [
    "Vehicles_Data.count()"
   ]
  },
  {
   "cell_type": "code",
   "execution_count": 8,
   "id": "4b8f61a2",
   "metadata": {},
   "outputs": [
    {
     "data": {
      "text/plain": [
       "19"
      ]
     },
     "execution_count": 8,
     "metadata": {},
     "output_type": "execute_result"
    }
   ],
   "source": [
    "#Counting no of columns in a dataframe\n",
    "len(Causality_Data.columns)"
   ]
  },
  {
   "cell_type": "code",
   "execution_count": 9,
   "id": "cf1bfca1",
   "metadata": {},
   "outputs": [
    {
     "data": {
      "text/plain": [
       "37"
      ]
     },
     "execution_count": 9,
     "metadata": {},
     "output_type": "execute_result"
    }
   ],
   "source": [
    "len(Accidents_Data.columns)"
   ]
  },
  {
   "cell_type": "code",
   "execution_count": 10,
   "id": "7cd3dd9b",
   "metadata": {},
   "outputs": [
    {
     "data": {
      "text/plain": [
       "28"
      ]
     },
     "execution_count": 10,
     "metadata": {},
     "output_type": "execute_result"
    }
   ],
   "source": [
    "len(Vehicles_Data.columns)"
   ]
  },
  {
   "cell_type": "code",
   "execution_count": 11,
   "id": "03725dfb",
   "metadata": {},
   "outputs": [
    {
     "name": "stdout",
     "output_type": "stream",
     "text": [
      "root\n",
      " |-- status: string (nullable = true)\n",
      " |-- accident_index: string (nullable = true)\n",
      " |-- accident_year: integer (nullable = true)\n",
      " |-- accident_reference: string (nullable = true)\n",
      " |-- location_easting_osgr: string (nullable = true)\n",
      " |-- location_northing_osgr: string (nullable = true)\n",
      " |-- longitude: string (nullable = true)\n",
      " |-- latitude: string (nullable = true)\n",
      " |-- police_force: integer (nullable = true)\n",
      " |-- accident_severity: integer (nullable = true)\n",
      " |-- number_of_vehicles: integer (nullable = true)\n",
      " |-- number_of_casualties: integer (nullable = true)\n",
      " |-- date: string (nullable = true)\n",
      " |-- day_of_week: integer (nullable = true)\n",
      " |-- time: string (nullable = true)\n",
      " |-- local_authority_district: integer (nullable = true)\n",
      " |-- local_authority_ons_district: string (nullable = true)\n",
      " |-- local_authority_highway: string (nullable = true)\n",
      " |-- first_road_class: integer (nullable = true)\n",
      " |-- first_road_number: integer (nullable = true)\n",
      " |-- road_type: integer (nullable = true)\n",
      " |-- speed_limit: integer (nullable = true)\n",
      " |-- junction_detail: integer (nullable = true)\n",
      " |-- junction_control: integer (nullable = true)\n",
      " |-- second_road_class: integer (nullable = true)\n",
      " |-- second_road_number: integer (nullable = true)\n",
      " |-- pedestrian_crossing_human_control: integer (nullable = true)\n",
      " |-- pedestrian_crossing_physical_facilities: integer (nullable = true)\n",
      " |-- light_conditions: integer (nullable = true)\n",
      " |-- weather_conditions: integer (nullable = true)\n",
      " |-- road_surface_conditions: integer (nullable = true)\n",
      " |-- special_conditions_at_site: integer (nullable = true)\n",
      " |-- carriageway_hazards: integer (nullable = true)\n",
      " |-- urban_or_rural_area: integer (nullable = true)\n",
      " |-- did_police_officer_attend_scene_of_accident: integer (nullable = true)\n",
      " |-- trunk_road_flag: integer (nullable = true)\n",
      " |-- lsoa_of_accident_location: integer (nullable = true)\n",
      "\n"
     ]
    }
   ],
   "source": [
    "#Printing Schema\n",
    "Accidents_Data.printSchema()"
   ]
  },
  {
   "cell_type": "code",
   "execution_count": 12,
   "id": "d87e4f9a",
   "metadata": {},
   "outputs": [
    {
     "name": "stdout",
     "output_type": "stream",
     "text": [
      "root\n",
      " |-- status: string (nullable = true)\n",
      " |-- accident_index: string (nullable = true)\n",
      " |-- accident_year: integer (nullable = true)\n",
      " |-- accident_reference: string (nullable = true)\n",
      " |-- vehicle_reference: integer (nullable = true)\n",
      " |-- casualty_reference: integer (nullable = true)\n",
      " |-- casualty_class: integer (nullable = true)\n",
      " |-- sex_of_casualty: integer (nullable = true)\n",
      " |-- age_of_casualty: integer (nullable = true)\n",
      " |-- age_band_of_casualty: integer (nullable = true)\n",
      " |-- casualty_severity: integer (nullable = true)\n",
      " |-- pedestrian_location: integer (nullable = true)\n",
      " |-- pedestrian_movement: integer (nullable = true)\n",
      " |-- car_passenger: integer (nullable = true)\n",
      " |-- bus_or_coach_passenger: integer (nullable = true)\n",
      " |-- pedestrian_road_maintenance_worker: integer (nullable = true)\n",
      " |-- casualty_type: integer (nullable = true)\n",
      " |-- casualty_home_area_type: integer (nullable = true)\n",
      " |-- casualty_imd_decile: integer (nullable = true)\n",
      "\n"
     ]
    }
   ],
   "source": [
    "Causality_Data.printSchema()"
   ]
  },
  {
   "cell_type": "code",
   "execution_count": 13,
   "id": "93c15d9a",
   "metadata": {},
   "outputs": [
    {
     "name": "stdout",
     "output_type": "stream",
     "text": [
      "root\n",
      " |-- status: string (nullable = true)\n",
      " |-- accident_index: string (nullable = true)\n",
      " |-- accident_year: integer (nullable = true)\n",
      " |-- accident_reference: string (nullable = true)\n",
      " |-- vehicle_reference: integer (nullable = true)\n",
      " |-- vehicle_type: integer (nullable = true)\n",
      " |-- towing_and_articulation: integer (nullable = true)\n",
      " |-- vehicle_manoeuvre: integer (nullable = true)\n",
      " |-- vehicle_direction_from: integer (nullable = true)\n",
      " |-- vehicle_direction_to: integer (nullable = true)\n",
      " |-- vehicle_location_restricted_lane: integer (nullable = true)\n",
      " |-- junction_location: integer (nullable = true)\n",
      " |-- skidding_and_overturning: integer (nullable = true)\n",
      " |-- hit_object_in_carriageway: integer (nullable = true)\n",
      " |-- vehicle_leaving_carriageway: integer (nullable = true)\n",
      " |-- hit_object_off_carriageway: integer (nullable = true)\n",
      " |-- first_point_of_impact: integer (nullable = true)\n",
      " |-- vehicle_left_hand_drive: integer (nullable = true)\n",
      " |-- journey_purpose_of_driver: integer (nullable = true)\n",
      " |-- sex_of_driver: integer (nullable = true)\n",
      " |-- age_of_driver: integer (nullable = true)\n",
      " |-- age_band_of_driver: integer (nullable = true)\n",
      " |-- engine_capacity_cc: integer (nullable = true)\n",
      " |-- propulsion_code: integer (nullable = true)\n",
      " |-- age_of_vehicle: integer (nullable = true)\n",
      " |-- generic_make_model: integer (nullable = true)\n",
      " |-- driver_imd_decile: integer (nullable = true)\n",
      " |-- driver_home_area_type: integer (nullable = true)\n",
      "\n"
     ]
    }
   ],
   "source": [
    "Vehicles_Data.printSchema()"
   ]
  },
  {
   "cell_type": "code",
   "execution_count": 14,
   "id": "b5d54216",
   "metadata": {},
   "outputs": [],
   "source": [
    "#Created Dataframe so that SQL work on that dataframe\n",
    "Accidents_Data.createOrReplaceTempView(\"Accidents_Data\")"
   ]
  },
  {
   "cell_type": "code",
   "execution_count": 15,
   "id": "b2477a84",
   "metadata": {},
   "outputs": [],
   "source": [
    "from pyspark.sql import SparkSession\n",
    "from pyspark.sql import SQLContext\n",
    "from pyspark import SparkContext"
   ]
  },
  {
   "cell_type": "code",
   "execution_count": 16,
   "id": "1c4d1c07",
   "metadata": {},
   "outputs": [],
   "source": [
    "sqlcontext = SQLContext(spark)"
   ]
  },
  {
   "cell_type": "code",
   "execution_count": 17,
   "id": "67b3c803",
   "metadata": {},
   "outputs": [],
   "source": [
    "Accidents_Data = spark.sql(\"SELECT * FROM Accidents_Data\")\n",
    "# Accidents_Data.show()"
   ]
  },
  {
   "cell_type": "code",
   "execution_count": 18,
   "id": "fb281022",
   "metadata": {},
   "outputs": [
    {
     "data": {
      "text/plain": [
       "DataFrame[status: bigint, accident_index: bigint, accident_year: bigint, accident_reference: bigint, location_easting_osgr: bigint, location_northing_osgr: bigint, longitude: bigint, latitude: bigint, police_force: bigint, accident_severity: bigint, number_of_vehicles: bigint, number_of_casualties: bigint, date: bigint, day_of_week: bigint, time: bigint, local_authority_district: bigint, local_authority_ons_district: bigint, local_authority_highway: bigint, first_road_class: bigint, first_road_number: bigint, road_type: bigint, speed_limit: bigint, junction_detail: bigint, junction_control: bigint, second_road_class: bigint, second_road_number: bigint, pedestrian_crossing_human_control: bigint, pedestrian_crossing_physical_facilities: bigint, light_conditions: bigint, weather_conditions: bigint, road_surface_conditions: bigint, special_conditions_at_site: bigint, carriageway_hazards: bigint, urban_or_rural_area: bigint, did_police_officer_attend_scene_of_accident: bigint, trunk_road_flag: bigint, lsoa_of_accident_location: bigint]"
      ]
     },
     "execution_count": 18,
     "metadata": {},
     "output_type": "execute_result"
    }
   ],
   "source": [
    "# Checking the null values in the data (No missing values in the data)\n",
    "Accidents_Data.select([count(when(isnan(c) | col(c).isNull(), c)).alias(c) for c in Accidents_Data.columns])"
   ]
  },
  {
   "cell_type": "code",
   "execution_count": 19,
   "id": "1b8be5e8",
   "metadata": {},
   "outputs": [],
   "source": [
    "Causality_Data.createOrReplaceTempView(\"Causality_Data\")\n",
    "Causality_Data = spark.sql(\"SELECT * FROM Causality_Data\")\n",
    "# Causality_Data.show()"
   ]
  },
  {
   "cell_type": "code",
   "execution_count": 70,
   "id": "1cf947f2",
   "metadata": {},
   "outputs": [
    {
     "data": {
      "text/plain": [
       "DataFrame[status: bigint, accident_index: bigint, accident_year: bigint, accident_reference: bigint, vehicle_reference: bigint, casualty_reference: bigint, casualty_class: bigint, sex_of_casualty: bigint, age_of_casualty: bigint, age_band_of_casualty: bigint, casualty_severity: bigint, pedestrian_location: bigint, pedestrian_movement: bigint, car_passenger: bigint, bus_or_coach_passenger: bigint, pedestrian_road_maintenance_worker: bigint, casualty_type: bigint, casualty_home_area_type: bigint, casualty_imd_decile: bigint]"
      ]
     },
     "execution_count": 70,
     "metadata": {},
     "output_type": "execute_result"
    }
   ],
   "source": [
    "# Checking the null values in the data (No missing values in the data)\n",
    "Causality_Data.select([count(when(isnan(c) | col(c).isNull(), c)).alias(c) for c in Causality_Data.columns])\n"
   ]
  },
  {
   "cell_type": "code",
   "execution_count": 21,
   "id": "59ee4d83",
   "metadata": {},
   "outputs": [],
   "source": [
    "Vehicles_Data.createOrReplaceTempView(\"Vehicles_Data\")\n",
    "Vehicles_Data = spark.sql(\"SELECT * FROM Vehicles_Data\")\n",
    "# Vehicles_Data.show()"
   ]
  },
  {
   "cell_type": "code",
   "execution_count": 22,
   "id": "47a4f245",
   "metadata": {},
   "outputs": [
    {
     "data": {
      "text/plain": [
       "DataFrame[status: bigint, accident_index: bigint, accident_year: bigint, accident_reference: bigint, vehicle_reference: bigint, vehicle_type: bigint, towing_and_articulation: bigint, vehicle_manoeuvre: bigint, vehicle_direction_from: bigint, vehicle_direction_to: bigint, vehicle_location_restricted_lane: bigint, junction_location: bigint, skidding_and_overturning: bigint, hit_object_in_carriageway: bigint, vehicle_leaving_carriageway: bigint, hit_object_off_carriageway: bigint, first_point_of_impact: bigint, vehicle_left_hand_drive: bigint, journey_purpose_of_driver: bigint, sex_of_driver: bigint, age_of_driver: bigint, age_band_of_driver: bigint, engine_capacity_cc: bigint, propulsion_code: bigint, age_of_vehicle: bigint, generic_make_model: bigint, driver_imd_decile: bigint, driver_home_area_type: bigint]"
      ]
     },
     "execution_count": 22,
     "metadata": {},
     "output_type": "execute_result"
    }
   ],
   "source": [
    "# Checking the null values in the data (No missing values in the data)\n",
    "Vehicles_Data.select([count(when(isnan(c) | col(c).isNull(), c)).alias(c) for c in Vehicles_Data.columns])"
   ]
  },
  {
   "cell_type": "code",
   "execution_count": 115,
   "id": "43ea0be2",
   "metadata": {},
   "outputs": [
    {
     "name": "stdout",
     "output_type": "stream",
     "text": [
      "   weather_conditions  number_of_casualties  count\n",
      "0                   6                     1     42\n",
      "1                   3                     1    405\n",
      "2                   7                     4      2\n",
      "3                   2                     2    610\n",
      "4                   9                     4      8\n"
     ]
    },
    {
     "data": {
      "text/plain": [
       "1    9\n",
       "2    7\n",
       "3    6\n",
       "4    6\n",
       "5    5\n",
       "Name: weather_conditions, dtype: int64"
      ]
     },
     "execution_count": 115,
     "metadata": {},
     "output_type": "execute_result"
    }
   ],
   "source": [
    "Weather_Distinct_Names = Accidents_Data.groupBy(\"weather_conditions\",\"number_of_casualties\").count().toPandas()\n",
    "print(Weather_Distinct_Names.head())\n",
    "\n",
    "\n",
    "temp_df_wc = Weather_Distinct_Names['weather_conditions'].value_counts()\n",
    "temp_df_wc.head()\n"
   ]
  },
  {
   "cell_type": "code",
   "execution_count": 61,
   "id": "8ae0d6e3-a9b1-4aa6-a552-1499df40ac1f",
   "metadata": {},
   "outputs": [
    {
     "data": {
      "text/plain": [
       "Text(0.5, 1.0, 'Frequency of Weather Conditions in Casualties')"
      ]
     },
     "execution_count": 61,
     "metadata": {},
     "output_type": "execute_result"
    },
    {
     "data": {
      "image/png": "[encoded data removed]",
      "text/plain": [
       "<Figure size 864x864 with 1 Axes>"
      ]
     },
     "metadata": {
      "needs_background": "light"
     },
     "output_type": "display_data"
    }
   ],
   "source": [
    "temp_df_wc.plot.bar()\n",
    "plt.xlabel('Weather Conditions')\n",
    "plt.ylabel('Frequency')\n",
    "plt.title('Frequency of Weather Conditions in Casualties')\n"
   ]
  },
  {
   "cell_type": "code",
   "execution_count": 62,
   "id": "fa428b11-3c04-4402-a905-0433773958df",
   "metadata": {},
   "outputs": [
    {
     "name": "stdout",
     "output_type": "stream",
     "text": [
      "weather_conditions      1     2    3    4    5   6    7     8     9\n",
      "count               34202  4149  498  443  441  57  153  1400  1015\n"
     ]
    },
    {
     "data": {
      "text/plain": [
       "Text(0.5, 1.0, 'No of Casualties in different Weather conditions')"
      ]
     },
     "execution_count": 62,
     "metadata": {},
     "output_type": "execute_result"
    },
    {
     "data": {
      "image/png": "[encoded data removed]",
      "text/plain": [
       "<Figure size 864x864 with 1 Axes>"
      ]
     },
     "metadata": {
      "needs_background": "light"
     },
     "output_type": "display_data"
    }
   ],
   "source": [
    "\n",
    "temp_wc = pd.pivot_table(Weather_Distinct_Names, values='count',\n",
    "                    columns=['weather_conditions'], aggfunc=np.sum)\n",
    "\n",
    "print(temp_wc)\n",
    "temp_wc.plot.bar()\n",
    "plt.xlabel('Weather Conditions')\n",
    "plt.ylabel('No of Casualties')\n",
    "plt.title('No of Casualties in different Weather conditions')"
   ]
  },
  {
   "cell_type": "code",
   "execution_count": 25,
   "id": "a619263b",
   "metadata": {},
   "outputs": [
    {
     "data": {
      "image/png": "[encoded data removed]",
      "text/plain": [
       "<Figure size 864x864 with 1 Axes>"
      ]
     },
     "metadata": {
      "needs_background": "light"
     },
     "output_type": "display_data"
    }
   ],
   "source": [
    "# plt.rcParams['figure.figsize']=[12,12]\n",
    "# Weather_Distinct_Names.plot(kind='bar', x='weather_conditions', y='number_of_casualties')\n",
    "# plt.show()"
   ]
  },
  {
   "cell_type": "code",
   "execution_count": 26,
   "id": "90a212d8",
   "metadata": {},
   "outputs": [
    {
     "data": {
      "text/html": [
       "<div>\n",
       "<style scoped>\n",
       "    .dataframe tbody tr th:only-of-type {\n",
       "        vertical-align: middle;\n",
       "    }\n",
       "\n",
       "    .dataframe tbody tr th {\n",
       "        vertical-align: top;\n",
       "    }\n",
       "\n",
       "    .dataframe thead th {\n",
       "        text-align: right;\n",
       "    }\n",
       "</style>\n",
       "<table border=\"1\" class=\"dataframe\">\n",
       "  <thead>\n",
       "    <tr style=\"text-align: right;\">\n",
       "      <th></th>\n",
       "      <th>light_conditions</th>\n",
       "      <th>number_of_casualties</th>\n",
       "      <th>count</th>\n",
       "    </tr>\n",
       "  </thead>\n",
       "  <tbody>\n",
       "    <tr>\n",
       "      <th>0</th>\n",
       "      <td>6</td>\n",
       "      <td>1</td>\n",
       "      <td>1237</td>\n",
       "    </tr>\n",
       "    <tr>\n",
       "      <th>1</th>\n",
       "      <td>7</td>\n",
       "      <td>4</td>\n",
       "      <td>5</td>\n",
       "    </tr>\n",
       "    <tr>\n",
       "      <th>2</th>\n",
       "      <td>1</td>\n",
       "      <td>7</td>\n",
       "      <td>12</td>\n",
       "    </tr>\n",
       "    <tr>\n",
       "      <th>3</th>\n",
       "      <td>7</td>\n",
       "      <td>1</td>\n",
       "      <td>743</td>\n",
       "    </tr>\n",
       "    <tr>\n",
       "      <th>4</th>\n",
       "      <td>4</td>\n",
       "      <td>7</td>\n",
       "      <td>2</td>\n",
       "    </tr>\n",
       "    <tr>\n",
       "      <th>5</th>\n",
       "      <td>1</td>\n",
       "      <td>2</td>\n",
       "      <td>4243</td>\n",
       "    </tr>\n",
       "    <tr>\n",
       "      <th>6</th>\n",
       "      <td>1</td>\n",
       "      <td>1</td>\n",
       "      <td>27274</td>\n",
       "    </tr>\n",
       "    <tr>\n",
       "      <th>7</th>\n",
       "      <td>6</td>\n",
       "      <td>5</td>\n",
       "      <td>20</td>\n",
       "    </tr>\n",
       "    <tr>\n",
       "      <th>8</th>\n",
       "      <td>1</td>\n",
       "      <td>3</td>\n",
       "      <td>1097</td>\n",
       "    </tr>\n",
       "    <tr>\n",
       "      <th>9</th>\n",
       "      <td>7</td>\n",
       "      <td>2</td>\n",
       "      <td>84</td>\n",
       "    </tr>\n",
       "    <tr>\n",
       "      <th>10</th>\n",
       "      <td>1</td>\n",
       "      <td>4</td>\n",
       "      <td>353</td>\n",
       "    </tr>\n",
       "    <tr>\n",
       "      <th>11</th>\n",
       "      <td>7</td>\n",
       "      <td>3</td>\n",
       "      <td>17</td>\n",
       "    </tr>\n",
       "    <tr>\n",
       "      <th>12</th>\n",
       "      <td>1</td>\n",
       "      <td>8</td>\n",
       "      <td>3</td>\n",
       "    </tr>\n",
       "    <tr>\n",
       "      <th>13</th>\n",
       "      <td>4</td>\n",
       "      <td>3</td>\n",
       "      <td>236</td>\n",
       "    </tr>\n",
       "    <tr>\n",
       "      <th>14</th>\n",
       "      <td>6</td>\n",
       "      <td>7</td>\n",
       "      <td>1</td>\n",
       "    </tr>\n",
       "    <tr>\n",
       "      <th>15</th>\n",
       "      <td>4</td>\n",
       "      <td>6</td>\n",
       "      <td>6</td>\n",
       "    </tr>\n",
       "    <tr>\n",
       "      <th>16</th>\n",
       "      <td>6</td>\n",
       "      <td>3</td>\n",
       "      <td>100</td>\n",
       "    </tr>\n",
       "    <tr>\n",
       "      <th>17</th>\n",
       "      <td>7</td>\n",
       "      <td>5</td>\n",
       "      <td>2</td>\n",
       "    </tr>\n",
       "    <tr>\n",
       "      <th>18</th>\n",
       "      <td>6</td>\n",
       "      <td>2</td>\n",
       "      <td>274</td>\n",
       "    </tr>\n",
       "    <tr>\n",
       "      <th>19</th>\n",
       "      <td>1</td>\n",
       "      <td>5</td>\n",
       "      <td>119</td>\n",
       "    </tr>\n",
       "    <tr>\n",
       "      <th>20</th>\n",
       "      <td>5</td>\n",
       "      <td>2</td>\n",
       "      <td>25</td>\n",
       "    </tr>\n",
       "    <tr>\n",
       "      <th>21</th>\n",
       "      <td>5</td>\n",
       "      <td>1</td>\n",
       "      <td>214</td>\n",
       "    </tr>\n",
       "    <tr>\n",
       "      <th>22</th>\n",
       "      <td>5</td>\n",
       "      <td>3</td>\n",
       "      <td>4</td>\n",
       "    </tr>\n",
       "    <tr>\n",
       "      <th>23</th>\n",
       "      <td>4</td>\n",
       "      <td>2</td>\n",
       "      <td>879</td>\n",
       "    </tr>\n",
       "    <tr>\n",
       "      <th>24</th>\n",
       "      <td>4</td>\n",
       "      <td>4</td>\n",
       "      <td>76</td>\n",
       "    </tr>\n",
       "    <tr>\n",
       "      <th>25</th>\n",
       "      <td>6</td>\n",
       "      <td>6</td>\n",
       "      <td>1</td>\n",
       "    </tr>\n",
       "    <tr>\n",
       "      <th>26</th>\n",
       "      <td>1</td>\n",
       "      <td>6</td>\n",
       "      <td>28</td>\n",
       "    </tr>\n",
       "    <tr>\n",
       "      <th>27</th>\n",
       "      <td>4</td>\n",
       "      <td>1</td>\n",
       "      <td>5234</td>\n",
       "    </tr>\n",
       "    <tr>\n",
       "      <th>28</th>\n",
       "      <td>1</td>\n",
       "      <td>10</td>\n",
       "      <td>1</td>\n",
       "    </tr>\n",
       "    <tr>\n",
       "      <th>29</th>\n",
       "      <td>4</td>\n",
       "      <td>5</td>\n",
       "      <td>36</td>\n",
       "    </tr>\n",
       "    <tr>\n",
       "      <th>30</th>\n",
       "      <td>5</td>\n",
       "      <td>5</td>\n",
       "      <td>2</td>\n",
       "    </tr>\n",
       "    <tr>\n",
       "      <th>31</th>\n",
       "      <td>6</td>\n",
       "      <td>4</td>\n",
       "      <td>30</td>\n",
       "    </tr>\n",
       "  </tbody>\n",
       "</table>\n",
       "</div>"
      ],
      "text/plain": [
       "    light_conditions  number_of_casualties  count\n",
       "0                  6                     1   1237\n",
       "1                  7                     4      5\n",
       "2                  1                     7     12\n",
       "3                  7                     1    743\n",
       "4                  4                     7      2\n",
       "5                  1                     2   4243\n",
       "6                  1                     1  27274\n",
       "7                  6                     5     20\n",
       "8                  1                     3   1097\n",
       "9                  7                     2     84\n",
       "10                 1                     4    353\n",
       "11                 7                     3     17\n",
       "12                 1                     8      3\n",
       "13                 4                     3    236\n",
       "14                 6                     7      1\n",
       "15                 4                     6      6\n",
       "16                 6                     3    100\n",
       "17                 7                     5      2\n",
       "18                 6                     2    274\n",
       "19                 1                     5    119\n",
       "20                 5                     2     25\n",
       "21                 5                     1    214\n",
       "22                 5                     3      4\n",
       "23                 4                     2    879\n",
       "24                 4                     4     76\n",
       "25                 6                     6      1\n",
       "26                 1                     6     28\n",
       "27                 4                     1   5234\n",
       "28                 1                    10      1\n",
       "29                 4                     5     36\n",
       "30                 5                     5      2\n",
       "31                 6                     4     30"
      ]
     },
     "execution_count": 26,
     "metadata": {},
     "output_type": "execute_result"
    }
   ],
   "source": [
    "#light_conditions\n",
    "Light_Distinct_Names = Accidents_Data.groupBy(\"light_conditions\",\"number_of_casualties\").count().toPandas()\n",
    "Light_Distinct_Names"
   ]
  },
  {
   "cell_type": "code",
   "execution_count": 63,
   "id": "9ae8cb48-9dda-4543-bc38-c7f1c240104b",
   "metadata": {},
   "outputs": [
    {
     "data": {
      "text/plain": [
       "1    9\n",
       "4    7\n",
       "6    7\n",
       "7    5\n",
       "5    4\n",
       "Name: light_conditions, dtype: int64"
      ]
     },
     "execution_count": 63,
     "metadata": {},
     "output_type": "execute_result"
    }
   ],
   "source": [
    "# Light_Distinct_Names = Accidents_Data.groupBy(\"weather_conditions\",\"number_of_casualties\").count().toPandas()\n",
    "# # Weather_Distinct_Names.head()\n",
    "\n",
    "\n",
    "temp_df_lc = Light_Distinct_Names['light_conditions'].value_counts()\n",
    "temp_df_lc.head()\n"
   ]
  },
  {
   "cell_type": "code",
   "execution_count": 64,
   "id": "5762764f-fdd4-4c63-a817-e3987af3a99e",
   "metadata": {},
   "outputs": [
    {
     "data": {
      "text/plain": [
       "Text(0.5, 1.0, 'Frequency of Light Conditions in Casualties')"
      ]
     },
     "execution_count": 64,
     "metadata": {},
     "output_type": "execute_result"
    },
    {
     "data": {
      "image/png": "[encoded data removed]",
      "text/plain": [
       "<Figure size 864x864 with 1 Axes>"
      ]
     },
     "metadata": {
      "needs_background": "light"
     },
     "output_type": "display_data"
    }
   ],
   "source": [
    "temp_df_lc.plot.bar()\n",
    "plt.xlabel('Light Conditions')\n",
    "plt.ylabel('Frequency')\n",
    "plt.title('Frequency of Light Conditions in Casualties')\n"
   ]
  },
  {
   "cell_type": "code",
   "execution_count": 53,
   "id": "c3990028-412e-47b1-ad1e-1d454adf2603",
   "metadata": {},
   "outputs": [
    {
     "name": "stdout",
     "output_type": "stream",
     "text": [
      "light_conditions      1     4    5     6    7\n",
      "count             33130  6469  245  1663  851\n"
     ]
    },
    {
     "data": {
      "text/plain": [
       "Text(0.5, 1.0, 'No of Casualties in different Light conditions')"
      ]
     },
     "execution_count": 53,
     "metadata": {},
     "output_type": "execute_result"
    },
    {
     "data": {
      "image/png": "[encoded data removed]",
      "text/plain": [
       "<Figure size 864x864 with 1 Axes>"
      ]
     },
     "metadata": {
      "needs_background": "light"
     },
     "output_type": "display_data"
    }
   ],
   "source": [
    "temp_lc = pd.pivot_table(Light_Distinct_Names, values='count',\n",
    "                    columns=['light_conditions'], aggfunc=np.sum)\n",
    "\n",
    "print(temp_lc)\n",
    "temp_lc.plot.bar()\n",
    "plt.xlabel('Light Conditions')\n",
    "plt.ylabel('No of Casualties')\n",
    "plt.title('No of Casualties in different Light conditions')"
   ]
  },
  {
   "cell_type": "code",
   "execution_count": 55,
   "id": "201b27c1",
   "metadata": {},
   "outputs": [
    {
     "data": {
      "text/html": [
       "<div>\n",
       "<style scoped>\n",
       "    .dataframe tbody tr th:only-of-type {\n",
       "        vertical-align: middle;\n",
       "    }\n",
       "\n",
       "    .dataframe tbody tr th {\n",
       "        vertical-align: top;\n",
       "    }\n",
       "\n",
       "    .dataframe thead th {\n",
       "        text-align: right;\n",
       "    }\n",
       "</style>\n",
       "<table border=\"1\" class=\"dataframe\">\n",
       "  <thead>\n",
       "    <tr style=\"text-align: right;\">\n",
       "      <th></th>\n",
       "      <th>speed_limit</th>\n",
       "      <th>number_of_casualties</th>\n",
       "      <th>count</th>\n",
       "    </tr>\n",
       "  </thead>\n",
       "  <tbody>\n",
       "    <tr>\n",
       "      <th>0</th>\n",
       "      <td>40</td>\n",
       "      <td>6</td>\n",
       "      <td>4</td>\n",
       "    </tr>\n",
       "    <tr>\n",
       "      <th>1</th>\n",
       "      <td>70</td>\n",
       "      <td>2</td>\n",
       "      <td>454</td>\n",
       "    </tr>\n",
       "    <tr>\n",
       "      <th>2</th>\n",
       "      <td>20</td>\n",
       "      <td>2</td>\n",
       "      <td>420</td>\n",
       "    </tr>\n",
       "    <tr>\n",
       "      <th>3</th>\n",
       "      <td>60</td>\n",
       "      <td>3</td>\n",
       "      <td>283</td>\n",
       "    </tr>\n",
       "    <tr>\n",
       "      <th>4</th>\n",
       "      <td>70</td>\n",
       "      <td>7</td>\n",
       "      <td>4</td>\n",
       "    </tr>\n",
       "    <tr>\n",
       "      <th>5</th>\n",
       "      <td>50</td>\n",
       "      <td>4</td>\n",
       "      <td>36</td>\n",
       "    </tr>\n",
       "    <tr>\n",
       "      <th>6</th>\n",
       "      <td>60</td>\n",
       "      <td>2</td>\n",
       "      <td>908</td>\n",
       "    </tr>\n",
       "    <tr>\n",
       "      <th>7</th>\n",
       "      <td>20</td>\n",
       "      <td>3</td>\n",
       "      <td>86</td>\n",
       "    </tr>\n",
       "    <tr>\n",
       "      <th>8</th>\n",
       "      <td>70</td>\n",
       "      <td>5</td>\n",
       "      <td>23</td>\n",
       "    </tr>\n",
       "    <tr>\n",
       "      <th>9</th>\n",
       "      <td>40</td>\n",
       "      <td>5</td>\n",
       "      <td>16</td>\n",
       "    </tr>\n",
       "    <tr>\n",
       "      <th>10</th>\n",
       "      <td>60</td>\n",
       "      <td>5</td>\n",
       "      <td>43</td>\n",
       "    </tr>\n",
       "    <tr>\n",
       "      <th>11</th>\n",
       "      <td>60</td>\n",
       "      <td>1</td>\n",
       "      <td>3265</td>\n",
       "    </tr>\n",
       "    <tr>\n",
       "      <th>12</th>\n",
       "      <td>60</td>\n",
       "      <td>4</td>\n",
       "      <td>102</td>\n",
       "    </tr>\n",
       "    <tr>\n",
       "      <th>13</th>\n",
       "      <td>30</td>\n",
       "      <td>2</td>\n",
       "      <td>2780</td>\n",
       "    </tr>\n",
       "    <tr>\n",
       "      <th>14</th>\n",
       "      <td>40</td>\n",
       "      <td>3</td>\n",
       "      <td>177</td>\n",
       "    </tr>\n",
       "    <tr>\n",
       "      <th>15</th>\n",
       "      <td>70</td>\n",
       "      <td>3</td>\n",
       "      <td>145</td>\n",
       "    </tr>\n",
       "    <tr>\n",
       "      <th>16</th>\n",
       "      <td>50</td>\n",
       "      <td>3</td>\n",
       "      <td>108</td>\n",
       "    </tr>\n",
       "    <tr>\n",
       "      <th>17</th>\n",
       "      <td>70</td>\n",
       "      <td>6</td>\n",
       "      <td>10</td>\n",
       "    </tr>\n",
       "    <tr>\n",
       "      <th>18</th>\n",
       "      <td>30</td>\n",
       "      <td>4</td>\n",
       "      <td>194</td>\n",
       "    </tr>\n",
       "    <tr>\n",
       "      <th>19</th>\n",
       "      <td>30</td>\n",
       "      <td>5</td>\n",
       "      <td>68</td>\n",
       "    </tr>\n",
       "    <tr>\n",
       "      <th>20</th>\n",
       "      <td>50</td>\n",
       "      <td>6</td>\n",
       "      <td>3</td>\n",
       "    </tr>\n",
       "    <tr>\n",
       "      <th>21</th>\n",
       "      <td>70</td>\n",
       "      <td>4</td>\n",
       "      <td>50</td>\n",
       "    </tr>\n",
       "    <tr>\n",
       "      <th>22</th>\n",
       "      <td>30</td>\n",
       "      <td>6</td>\n",
       "      <td>12</td>\n",
       "    </tr>\n",
       "    <tr>\n",
       "      <th>23</th>\n",
       "      <td>20</td>\n",
       "      <td>5</td>\n",
       "      <td>7</td>\n",
       "    </tr>\n",
       "    <tr>\n",
       "      <th>24</th>\n",
       "      <td>30</td>\n",
       "      <td>10</td>\n",
       "      <td>1</td>\n",
       "    </tr>\n",
       "    <tr>\n",
       "      <th>25</th>\n",
       "      <td>-1</td>\n",
       "      <td>2</td>\n",
       "      <td>4</td>\n",
       "    </tr>\n",
       "    <tr>\n",
       "      <th>26</th>\n",
       "      <td>30</td>\n",
       "      <td>8</td>\n",
       "      <td>1</td>\n",
       "    </tr>\n",
       "    <tr>\n",
       "      <th>27</th>\n",
       "      <td>20</td>\n",
       "      <td>1</td>\n",
       "      <td>5777</td>\n",
       "    </tr>\n",
       "    <tr>\n",
       "      <th>28</th>\n",
       "      <td>40</td>\n",
       "      <td>1</td>\n",
       "      <td>2761</td>\n",
       "    </tr>\n",
       "    <tr>\n",
       "      <th>29</th>\n",
       "      <td>60</td>\n",
       "      <td>7</td>\n",
       "      <td>5</td>\n",
       "    </tr>\n",
       "    <tr>\n",
       "      <th>30</th>\n",
       "      <td>50</td>\n",
       "      <td>1</td>\n",
       "      <td>1270</td>\n",
       "    </tr>\n",
       "    <tr>\n",
       "      <th>31</th>\n",
       "      <td>50</td>\n",
       "      <td>5</td>\n",
       "      <td>22</td>\n",
       "    </tr>\n",
       "    <tr>\n",
       "      <th>32</th>\n",
       "      <td>50</td>\n",
       "      <td>2</td>\n",
       "      <td>309</td>\n",
       "    </tr>\n",
       "    <tr>\n",
       "      <th>33</th>\n",
       "      <td>20</td>\n",
       "      <td>4</td>\n",
       "      <td>28</td>\n",
       "    </tr>\n",
       "    <tr>\n",
       "      <th>34</th>\n",
       "      <td>50</td>\n",
       "      <td>7</td>\n",
       "      <td>2</td>\n",
       "    </tr>\n",
       "    <tr>\n",
       "      <th>35</th>\n",
       "      <td>-1</td>\n",
       "      <td>3</td>\n",
       "      <td>1</td>\n",
       "    </tr>\n",
       "    <tr>\n",
       "      <th>36</th>\n",
       "      <td>40</td>\n",
       "      <td>4</td>\n",
       "      <td>54</td>\n",
       "    </tr>\n",
       "    <tr>\n",
       "      <th>37</th>\n",
       "      <td>60</td>\n",
       "      <td>6</td>\n",
       "      <td>6</td>\n",
       "    </tr>\n",
       "    <tr>\n",
       "      <th>38</th>\n",
       "      <td>70</td>\n",
       "      <td>8</td>\n",
       "      <td>2</td>\n",
       "    </tr>\n",
       "    <tr>\n",
       "      <th>39</th>\n",
       "      <td>40</td>\n",
       "      <td>2</td>\n",
       "      <td>630</td>\n",
       "    </tr>\n",
       "    <tr>\n",
       "      <th>40</th>\n",
       "      <td>30</td>\n",
       "      <td>7</td>\n",
       "      <td>4</td>\n",
       "    </tr>\n",
       "    <tr>\n",
       "      <th>41</th>\n",
       "      <td>30</td>\n",
       "      <td>3</td>\n",
       "      <td>654</td>\n",
       "    </tr>\n",
       "    <tr>\n",
       "      <th>42</th>\n",
       "      <td>-1</td>\n",
       "      <td>1</td>\n",
       "      <td>75</td>\n",
       "    </tr>\n",
       "    <tr>\n",
       "      <th>43</th>\n",
       "      <td>30</td>\n",
       "      <td>1</td>\n",
       "      <td>19986</td>\n",
       "    </tr>\n",
       "    <tr>\n",
       "      <th>44</th>\n",
       "      <td>70</td>\n",
       "      <td>1</td>\n",
       "      <td>1568</td>\n",
       "    </tr>\n",
       "  </tbody>\n",
       "</table>\n",
       "</div>"
      ],
      "text/plain": [
       "    speed_limit  number_of_casualties  count\n",
       "0            40                     6      4\n",
       "1            70                     2    454\n",
       "2            20                     2    420\n",
       "3            60                     3    283\n",
       "4            70                     7      4\n",
       "5            50                     4     36\n",
       "6            60                     2    908\n",
       "7            20                     3     86\n",
       "8            70                     5     23\n",
       "9            40                     5     16\n",
       "10           60                     5     43\n",
       "11           60                     1   3265\n",
       "12           60                     4    102\n",
       "13           30                     2   2780\n",
       "14           40                     3    177\n",
       "15           70                     3    145\n",
       "16           50                     3    108\n",
       "17           70                     6     10\n",
       "18           30                     4    194\n",
       "19           30                     5     68\n",
       "20           50                     6      3\n",
       "21           70                     4     50\n",
       "22           30                     6     12\n",
       "23           20                     5      7\n",
       "24           30                    10      1\n",
       "25           -1                     2      4\n",
       "26           30                     8      1\n",
       "27           20                     1   5777\n",
       "28           40                     1   2761\n",
       "29           60                     7      5\n",
       "30           50                     1   1270\n",
       "31           50                     5     22\n",
       "32           50                     2    309\n",
       "33           20                     4     28\n",
       "34           50                     7      2\n",
       "35           -1                     3      1\n",
       "36           40                     4     54\n",
       "37           60                     6      6\n",
       "38           70                     8      2\n",
       "39           40                     2    630\n",
       "40           30                     7      4\n",
       "41           30                     3    654\n",
       "42           -1                     1     75\n",
       "43           30                     1  19986\n",
       "44           70                     1   1568"
      ]
     },
     "execution_count": 55,
     "metadata": {},
     "output_type": "execute_result"
    }
   ],
   "source": [
    "Speed_Distinct_Names = Accidents_Data.groupBy(\"speed_limit\",\"number_of_casualties\").count().toPandas()\n",
    "Speed_Distinct_Names\n"
   ]
  },
  {
   "cell_type": "code",
   "execution_count": 77,
   "id": "e42104c8-853e-4a66-9af9-892d011e7518",
   "metadata": {},
   "outputs": [
    {
     "data": {
      "text/plain": [
       "30    9\n",
       "70    8\n",
       "50    7\n",
       "60    7\n",
       "40    6\n",
       "Name: speed_limit, dtype: int64"
      ]
     },
     "execution_count": 77,
     "metadata": {},
     "output_type": "execute_result"
    }
   ],
   "source": [
    "temp_df_sl = Speed_Distinct_Names['speed_limit'].value_counts()\n",
    "temp_df_sl.head()\n"
   ]
  },
  {
   "cell_type": "code",
   "execution_count": 66,
   "id": "b975f0cd-6dce-43f6-8c7b-43ace4bde95a",
   "metadata": {},
   "outputs": [
    {
     "data": {
      "text/plain": [
       "Text(0.5, 1.0, 'Frequency of Speed Limits in Casualties')"
      ]
     },
     "execution_count": 66,
     "metadata": {},
     "output_type": "execute_result"
    },
    {
     "data": {
      "image/png": "[encoded data removed]",
      "text/plain": [
       "<Figure size 864x864 with 1 Axes>"
      ]
     },
     "metadata": {
      "needs_background": "light"
     },
     "output_type": "display_data"
    }
   ],
   "source": [
    "temp_df.plot.bar()\n",
    "plt.xlabel('Speed Limits')\n",
    "plt.ylabel('Frequency')\n",
    "plt.title('Frequency of Speed Limits in Casualties')\n",
    "\n"
   ]
  },
  {
   "cell_type": "code",
   "execution_count": 67,
   "id": "988bf726-7882-4be0-9144-94e05d4b5b7e",
   "metadata": {},
   "outputs": [
    {
     "name": "stdout",
     "output_type": "stream",
     "text": [
      "speed_limit  -1     20     30    40    50    60    70\n",
      "count         80  6318  23700  3642  1750  4612  2256\n"
     ]
    },
    {
     "data": {
      "text/plain": [
       "Text(0.5, 1.0, 'No of Casualties in different Speed Limits')"
      ]
     },
     "execution_count": 67,
     "metadata": {},
     "output_type": "execute_result"
    },
    {
     "data": {
      "image/png": "[encoded data removed]",
      "text/plain": [
       "<Figure size 864x864 with 1 Axes>"
      ]
     },
     "metadata": {
      "needs_background": "light"
     },
     "output_type": "display_data"
    }
   ],
   "source": [
    "\n",
    "temp_sl = pd.pivot_table(Speed_Distinct_Names, values='count',\n",
    "                    columns=['speed_limit'], aggfunc=np.sum)\n",
    "\n",
    "print(temp_sl)\n",
    "temp_sl.plot.bar()\n",
    "plt.xlabel('Speed Limits')\n",
    "plt.ylabel('No of Casualties')\n",
    "plt.title('No of Casualties in different Speed Limits')"
   ]
  },
  {
   "cell_type": "code",
   "execution_count": null,
   "id": "c372430b",
   "metadata": {},
   "outputs": [],
   "source": [
    "##### Casulaty Data #########"
   ]
  },
  {
   "cell_type": "code",
   "execution_count": 76,
   "id": "8de575c8-c1aa-49b2-8a19-f3f97bbc3805",
   "metadata": {},
   "outputs": [
    {
     "name": "stdout",
     "output_type": "stream",
     "text": [
      "Row(status='Unvalidated', accident_index='2021010287148', accident_year=2021, accident_reference='010287148', vehicle_reference=1, casualty_reference=1, casualty_class=1, sex_of_casualty=1, age_of_casualty=19, age_band_of_casualty=4, casualty_severity=3, pedestrian_location=0, pedestrian_movement=0, car_passenger=0, bus_or_coach_passenger=0, pedestrian_road_maintenance_worker=0, casualty_type=9, casualty_home_area_type=1, casualty_imd_decile=10)\n",
      "status\n",
      "accident_index\n",
      "accident_year\n",
      "accident_reference\n",
      "vehicle_reference\n",
      "casualty_reference\n",
      "casualty_class\n",
      "sex_of_casualty\n",
      "age_of_casualty\n",
      "age_band_of_casualty\n",
      "casualty_severity\n",
      "pedestrian_location\n",
      "pedestrian_movement\n",
      "car_passenger\n",
      "bus_or_coach_passenger\n",
      "pedestrian_road_maintenance_worker\n",
      "casualty_type\n",
      "casualty_home_area_type\n",
      "casualty_imd_decile\n"
     ]
    }
   ],
   "source": [
    "# Causality_Data.show()\n",
    "print(Causality_Data.head())\n",
    "for col in Causality_Data.columns:\n",
    "    print(col)"
   ]
  },
  {
   "cell_type": "code",
   "execution_count": 78,
   "id": "b9a7af7e-c6f7-4ea8-8ebd-b09163f1229b",
   "metadata": {},
   "outputs": [
    {
     "data": {
      "text/html": [
       "<div>\n",
       "<style scoped>\n",
       "    .dataframe tbody tr th:only-of-type {\n",
       "        vertical-align: middle;\n",
       "    }\n",
       "\n",
       "    .dataframe tbody tr th {\n",
       "        vertical-align: top;\n",
       "    }\n",
       "\n",
       "    .dataframe thead th {\n",
       "        text-align: right;\n",
       "    }\n",
       "</style>\n",
       "<table border=\"1\" class=\"dataframe\">\n",
       "  <thead>\n",
       "    <tr style=\"text-align: right;\">\n",
       "      <th></th>\n",
       "      <th>casualty_severity</th>\n",
       "      <th>age_band_of_casualty</th>\n",
       "      <th>casualty_type</th>\n",
       "      <th>count</th>\n",
       "    </tr>\n",
       "  </thead>\n",
       "  <tbody>\n",
       "    <tr>\n",
       "      <th>0</th>\n",
       "      <td>2</td>\n",
       "      <td>3</td>\n",
       "      <td>90</td>\n",
       "      <td>26</td>\n",
       "    </tr>\n",
       "    <tr>\n",
       "      <th>1</th>\n",
       "      <td>3</td>\n",
       "      <td>6</td>\n",
       "      <td>19</td>\n",
       "      <td>349</td>\n",
       "    </tr>\n",
       "    <tr>\n",
       "      <th>2</th>\n",
       "      <td>1</td>\n",
       "      <td>5</td>\n",
       "      <td>3</td>\n",
       "      <td>2</td>\n",
       "    </tr>\n",
       "    <tr>\n",
       "      <th>3</th>\n",
       "      <td>3</td>\n",
       "      <td>1</td>\n",
       "      <td>10</td>\n",
       "      <td>1</td>\n",
       "    </tr>\n",
       "    <tr>\n",
       "      <th>4</th>\n",
       "      <td>1</td>\n",
       "      <td>5</td>\n",
       "      <td>97</td>\n",
       "      <td>2</td>\n",
       "    </tr>\n",
       "    <tr>\n",
       "      <th>...</th>\n",
       "      <td>...</td>\n",
       "      <td>...</td>\n",
       "      <td>...</td>\n",
       "      <td>...</td>\n",
       "    </tr>\n",
       "    <tr>\n",
       "      <th>462</th>\n",
       "      <td>3</td>\n",
       "      <td>10</td>\n",
       "      <td>4</td>\n",
       "      <td>10</td>\n",
       "    </tr>\n",
       "    <tr>\n",
       "      <th>463</th>\n",
       "      <td>2</td>\n",
       "      <td>11</td>\n",
       "      <td>5</td>\n",
       "      <td>6</td>\n",
       "    </tr>\n",
       "    <tr>\n",
       "      <th>464</th>\n",
       "      <td>3</td>\n",
       "      <td>9</td>\n",
       "      <td>17</td>\n",
       "      <td>3</td>\n",
       "    </tr>\n",
       "    <tr>\n",
       "      <th>465</th>\n",
       "      <td>3</td>\n",
       "      <td>4</td>\n",
       "      <td>90</td>\n",
       "      <td>108</td>\n",
       "    </tr>\n",
       "    <tr>\n",
       "      <th>466</th>\n",
       "      <td>3</td>\n",
       "      <td>6</td>\n",
       "      <td>90</td>\n",
       "      <td>104</td>\n",
       "    </tr>\n",
       "  </tbody>\n",
       "</table>\n",
       "<p>467 rows × 4 columns</p>\n",
       "</div>"
      ],
      "text/plain": [
       "     casualty_severity  age_band_of_casualty  casualty_type  count\n",
       "0                    2                     3             90     26\n",
       "1                    3                     6             19    349\n",
       "2                    1                     5              3      2\n",
       "3                    3                     1             10      1\n",
       "4                    1                     5             97      2\n",
       "..                 ...                   ...            ...    ...\n",
       "462                  3                    10              4     10\n",
       "463                  2                    11              5      6\n",
       "464                  3                     9             17      3\n",
       "465                  3                     4             90    108\n",
       "466                  3                     6             90    104\n",
       "\n",
       "[467 rows x 4 columns]"
      ]
     },
     "execution_count": 78,
     "metadata": {},
     "output_type": "execute_result"
    }
   ],
   "source": [
    "Casulty_Data_temp = Causality_Data.groupBy(\"casualty_severity\",\"age_band_of_casualty\", \"casualty_type\").count().toPandas()\n",
    "Casulty_Data_temp\n"
   ]
  },
  {
   "cell_type": "code",
   "execution_count": 79,
   "id": "baf691a6-1460-4e95-bbd3-42e8eaa8373e",
   "metadata": {},
   "outputs": [
    {
     "data": {
      "text/plain": [
       "3    214\n",
       "2    172\n",
       "1     81\n",
       "Name: casualty_severity, dtype: int64"
      ]
     },
     "execution_count": 79,
     "metadata": {},
     "output_type": "execute_result"
    }
   ],
   "source": [
    "temp_casualty_cs = Casulty_Data_temp['casualty_severity'].value_counts()\n",
    "temp_casualty_cs.head()\n"
   ]
  },
  {
   "cell_type": "code",
   "execution_count": 81,
   "id": "42a3b0f0-8311-49dc-af34-aebabc999a41",
   "metadata": {},
   "outputs": [
    {
     "data": {
      "text/plain": [
       "Text(0.5, 1.0, 'Frequency of Severity in Casualties')"
      ]
     },
     "execution_count": 81,
     "metadata": {},
     "output_type": "execute_result"
    },
    {
     "data": {
      "image/png": "[encoded data removed]",
      "text/plain": [
       "<Figure size 864x864 with 1 Axes>"
      ]
     },
     "metadata": {
      "needs_background": "light"
     },
     "output_type": "display_data"
    }
   ],
   "source": [
    "\n",
    "temp_casualty_cs.plot.bar()\n",
    "plt.xlabel('Severity of Casualty')\n",
    "plt.ylabel('Frequency')\n",
    "plt.title('Frequency of Severity in Casualties')\n"
   ]
  },
  {
   "cell_type": "code",
   "execution_count": 84,
   "id": "22bf7a15-7e8a-4c94-b3a6-8e0abde65b94",
   "metadata": {},
   "outputs": [
    {
     "name": "stdout",
     "output_type": "stream",
     "text": [
      "casualty_severity    1     2      3\n",
      "count              554  9449  43171\n"
     ]
    },
    {
     "data": {
      "text/plain": [
       "Text(0.5, 1.0, 'No of Casualties with different Severity')"
      ]
     },
     "execution_count": 84,
     "metadata": {},
     "output_type": "execute_result"
    },
    {
     "data": {
      "image/png": "[encoded data removed]",
      "text/plain": [
       "<Figure size 864x864 with 1 Axes>"
      ]
     },
     "metadata": {
      "needs_background": "light"
     },
     "output_type": "display_data"
    }
   ],
   "source": [
    "\n",
    "temp_cs = pd.pivot_table(Casulty_Data_temp, values='count',\n",
    "                    columns=['casualty_severity'], aggfunc=np.sum)\n",
    "\n",
    "print(temp_cs)\n",
    "temp_cs.plot.bar()\n",
    "plt.xlabel('Severity of Casualty')\n",
    "plt.ylabel('No of Casualties')\n",
    "plt.title('No of Casualties with different Severity')"
   ]
  },
  {
   "cell_type": "code",
   "execution_count": 85,
   "id": "4f0c2e39-d3bf-49f6-94b5-560276425002",
   "metadata": {},
   "outputs": [
    {
     "data": {
      "text/plain": [
       "6    52\n",
       "8    52\n",
       "9    50\n",
       "7    49\n",
       "5    47\n",
       "Name: age_band_of_casualty, dtype: int64"
      ]
     },
     "execution_count": 85,
     "metadata": {},
     "output_type": "execute_result"
    }
   ],
   "source": [
    "temp_casualty_age_band = Casulty_Data_temp['age_band_of_casualty'].value_counts()\n",
    "temp_casualty_age_band.head()\n",
    "\n"
   ]
  },
  {
   "cell_type": "code",
   "execution_count": 86,
   "id": "25a6196e-7b50-4a1a-95b1-66699c73a0e8",
   "metadata": {},
   "outputs": [
    {
     "data": {
      "text/plain": [
       "Text(0.5, 1.0, 'Frequency of Age Band in Casualties')"
      ]
     },
     "execution_count": 86,
     "metadata": {},
     "output_type": "execute_result"
    },
    {
     "data": {
      "image/png": "[encoded data removed]",
      "text/plain": [
       "<Figure size 864x864 with 1 Axes>"
      ]
     },
     "metadata": {
      "needs_background": "light"
     },
     "output_type": "display_data"
    }
   ],
   "source": [
    "temp_casualty_age_band.plot.bar()\n",
    "plt.xlabel('Age Band of Casualty')\n",
    "plt.ylabel('Frequency')\n",
    "plt.title('Frequency of Age Band in Casualties')\n",
    "\n"
   ]
  },
  {
   "cell_type": "code",
   "execution_count": 88,
   "id": "ee27cf68-287f-4258-9a74-8ac88899c931",
   "metadata": {},
   "outputs": [
    {
     "name": "stdout",
     "output_type": "stream",
     "text": [
      "age_band_of_casualty   -1    1     2     3     4     5      6     7     8   \\\n",
      "count                 1240  902  1356  2329  5136  6193  12072  8322  6997   \n",
      "\n",
      "age_band_of_casualty    9     10    11  \n",
      "count                 4617  2292  1718  \n"
     ]
    },
    {
     "data": {
      "text/plain": [
       "Text(0.5, 1.0, 'No of Casualties with different Age Groups')"
      ]
     },
     "execution_count": 88,
     "metadata": {},
     "output_type": "execute_result"
    },
    {
     "data": {
      "image/png": "[encoded data removed]",
      "text/plain": [
       "<Figure size 864x864 with 1 Axes>"
      ]
     },
     "metadata": {
      "needs_background": "light"
     },
     "output_type": "display_data"
    }
   ],
   "source": [
    "temp_age_band = pd.pivot_table(Casulty_Data_temp, values='count',\n",
    "                    columns=['age_band_of_casualty'], aggfunc=np.sum)\n",
    "\n",
    "print(temp_age_band)\n",
    "temp_age_band.plot.bar()\n",
    "plt.xlabel('Age Band of Casualty')\n",
    "plt.ylabel('No of Casualties')\n",
    "plt.title('No of Casualties with different Age Groups')"
   ]
  },
  {
   "cell_type": "code",
   "execution_count": 89,
   "id": "ab86f53d-58d1-4051-a3de-eff05cbc53e7",
   "metadata": {},
   "outputs": [
    {
     "data": {
      "text/plain": [
       "0     36\n",
       "1     33\n",
       "9     33\n",
       "5     29\n",
       "90    29\n",
       "Name: casualty_type, dtype: int64"
      ]
     },
     "execution_count": 89,
     "metadata": {},
     "output_type": "execute_result"
    }
   ],
   "source": [
    "temp_casualty_ct = Casulty_Data_temp['casualty_type'].value_counts()\n",
    "temp_casualty_ct.head()\n"
   ]
  },
  {
   "cell_type": "code",
   "execution_count": 90,
   "id": "c2563bd9-ac7b-4763-bdb5-f0fbc3c10bb1",
   "metadata": {},
   "outputs": [
    {
     "data": {
      "text/plain": [
       "Text(0.5, 1.0, 'Frequency of Type of Casualty')"
      ]
     },
     "execution_count": 90,
     "metadata": {},
     "output_type": "execute_result"
    },
    {
     "data": {
      "image/png": "[encoded data removed]",
      "text/plain": [
       "<Figure size 864x864 with 1 Axes>"
      ]
     },
     "metadata": {
      "needs_background": "light"
     },
     "output_type": "display_data"
    }
   ],
   "source": [
    "temp_casualty_ct.plot.bar()\n",
    "plt.xlabel('Type of Casualty')\n",
    "plt.ylabel('Frequency')\n",
    "plt.title('Frequency of Type of Casualty')\n",
    "\n"
   ]
  },
  {
   "cell_type": "code",
   "execution_count": 91,
   "id": "d3a1fd00-fdb7-47bc-85a2-f38c5fdfc252",
   "metadata": {},
   "outputs": [
    {
     "name": "stdout",
     "output_type": "stream",
     "text": [
      "casualty_type  -1     0     1    2     3    4     5    8      9    10  ...  \\\n",
      "count            9  6644  7300  443  3207  617  1461  556  28499   61  ...   \n",
      "\n",
      "casualty_type   16   17    19   20   21   22   23   90   97   98  \n",
      "count           44   31  1430   90  166   94   75  745  622  397  \n",
      "\n",
      "[1 rows x 21 columns]\n"
     ]
    },
    {
     "data": {
      "text/plain": [
       "Text(0.5, 1.0, 'No of different Type of Casualties ')"
      ]
     },
     "execution_count": 91,
     "metadata": {},
     "output_type": "execute_result"
    },
    {
     "data": {
      "image/png": "[encoded data removed]",
      "text/plain": [
       "<Figure size 864x864 with 1 Axes>"
      ]
     },
     "metadata": {
      "needs_background": "light"
     },
     "output_type": "display_data"
    }
   ],
   "source": [
    "temp_ct = pd.pivot_table(Casulty_Data_temp, values='count',\n",
    "                    columns=['casualty_type'], aggfunc=np.sum)\n",
    "\n",
    "print(temp_ct)\n",
    "temp_ct.plot.bar()\n",
    "plt.xlabel('Type of Vehicle')\n",
    "plt.ylabel('No of Casualties')\n",
    "plt.title('No of different Type of Casualties ')"
   ]
  },
  {
   "cell_type": "code",
   "execution_count": null,
   "id": "eecaffbd-bc21-4a5d-9449-d0ede56dd895",
   "metadata": {},
   "outputs": [],
   "source": []
  },
  {
   "cell_type": "code",
   "execution_count": 92,
   "id": "92507d69-19f7-4ae7-9eed-55756bc842fd",
   "metadata": {},
   "outputs": [
    {
     "name": "stdout",
     "output_type": "stream",
     "text": [
      "Row(status='Unvalidated', accident_index='2021010287232', accident_year=2021, accident_reference='010287232', vehicle_reference=1, vehicle_type=1, towing_and_articulation=0, vehicle_manoeuvre=18, vehicle_direction_from=5, vehicle_direction_to=1, vehicle_location_restricted_lane=4, junction_location=8, skidding_and_overturning=0, hit_object_in_carriageway=0, vehicle_leaving_carriageway=0, hit_object_off_carriageway=0, first_point_of_impact=3, vehicle_left_hand_drive=1, journey_purpose_of_driver=1, sex_of_driver=1, age_of_driver=18, age_band_of_driver=4, engine_capacity_cc=-1, propulsion_code=-1, age_of_vehicle=-1, generic_make_model=-1, driver_imd_decile=-1, driver_home_area_type=-1)\n",
      "status\n",
      "accident_index\n",
      "accident_year\n",
      "accident_reference\n",
      "vehicle_reference\n",
      "vehicle_type\n",
      "towing_and_articulation\n",
      "vehicle_manoeuvre\n",
      "vehicle_direction_from\n",
      "vehicle_direction_to\n",
      "vehicle_location_restricted_lane\n",
      "junction_location\n",
      "skidding_and_overturning\n",
      "hit_object_in_carriageway\n",
      "vehicle_leaving_carriageway\n",
      "hit_object_off_carriageway\n",
      "first_point_of_impact\n",
      "vehicle_left_hand_drive\n",
      "journey_purpose_of_driver\n",
      "sex_of_driver\n",
      "age_of_driver\n",
      "age_band_of_driver\n",
      "engine_capacity_cc\n",
      "propulsion_code\n",
      "age_of_vehicle\n",
      "generic_make_model\n",
      "driver_imd_decile\n",
      "driver_home_area_type\n"
     ]
    }
   ],
   "source": [
    "# Causality_Data.show()\n",
    "print(Vehicles_Data.head())\n",
    "for col in Vehicles_Data.columns:\n",
    "    print(col)\n",
    "    \n"
   ]
  },
  {
   "cell_type": "code",
   "execution_count": 94,
   "id": "dcb2414d-930b-4ad8-9a98-5a52abb0b106",
   "metadata": {},
   "outputs": [
    {
     "data": {
      "text/html": [
       "<div>\n",
       "<style scoped>\n",
       "    .dataframe tbody tr th:only-of-type {\n",
       "        vertical-align: middle;\n",
       "    }\n",
       "\n",
       "    .dataframe tbody tr th {\n",
       "        vertical-align: top;\n",
       "    }\n",
       "\n",
       "    .dataframe thead th {\n",
       "        text-align: right;\n",
       "    }\n",
       "</style>\n",
       "<table border=\"1\" class=\"dataframe\">\n",
       "  <thead>\n",
       "    <tr style=\"text-align: right;\">\n",
       "      <th></th>\n",
       "      <th>vehicle_type</th>\n",
       "      <th>junction_location</th>\n",
       "      <th>skidding_and_overturning</th>\n",
       "      <th>age_band_of_driver</th>\n",
       "      <th>generic_make_model</th>\n",
       "      <th>age_of_vehicle</th>\n",
       "      <th>count</th>\n",
       "    </tr>\n",
       "  </thead>\n",
       "  <tbody>\n",
       "    <tr>\n",
       "      <th>0</th>\n",
       "      <td>3</td>\n",
       "      <td>0</td>\n",
       "      <td>9</td>\n",
       "      <td>5</td>\n",
       "      <td>-1</td>\n",
       "      <td>-1</td>\n",
       "      <td>28</td>\n",
       "    </tr>\n",
       "    <tr>\n",
       "      <th>1</th>\n",
       "      <td>19</td>\n",
       "      <td>8</td>\n",
       "      <td>0</td>\n",
       "      <td>10</td>\n",
       "      <td>-1</td>\n",
       "      <td>-1</td>\n",
       "      <td>22</td>\n",
       "    </tr>\n",
       "    <tr>\n",
       "      <th>2</th>\n",
       "      <td>22</td>\n",
       "      <td>2</td>\n",
       "      <td>0</td>\n",
       "      <td>7</td>\n",
       "      <td>-1</td>\n",
       "      <td>-1</td>\n",
       "      <td>2</td>\n",
       "    </tr>\n",
       "    <tr>\n",
       "      <th>3</th>\n",
       "      <td>10</td>\n",
       "      <td>0</td>\n",
       "      <td>0</td>\n",
       "      <td>5</td>\n",
       "      <td>-1</td>\n",
       "      <td>-1</td>\n",
       "      <td>1</td>\n",
       "    </tr>\n",
       "    <tr>\n",
       "      <th>4</th>\n",
       "      <td>4</td>\n",
       "      <td>1</td>\n",
       "      <td>2</td>\n",
       "      <td>4</td>\n",
       "      <td>-1</td>\n",
       "      <td>-1</td>\n",
       "      <td>1</td>\n",
       "    </tr>\n",
       "    <tr>\n",
       "      <th>...</th>\n",
       "      <td>...</td>\n",
       "      <td>...</td>\n",
       "      <td>...</td>\n",
       "      <td>...</td>\n",
       "      <td>...</td>\n",
       "      <td>...</td>\n",
       "      <td>...</td>\n",
       "    </tr>\n",
       "    <tr>\n",
       "      <th>2625</th>\n",
       "      <td>1</td>\n",
       "      <td>1</td>\n",
       "      <td>1</td>\n",
       "      <td>9</td>\n",
       "      <td>-1</td>\n",
       "      <td>-1</td>\n",
       "      <td>5</td>\n",
       "    </tr>\n",
       "    <tr>\n",
       "      <th>2626</th>\n",
       "      <td>4</td>\n",
       "      <td>6</td>\n",
       "      <td>0</td>\n",
       "      <td>8</td>\n",
       "      <td>-1</td>\n",
       "      <td>-1</td>\n",
       "      <td>1</td>\n",
       "    </tr>\n",
       "    <tr>\n",
       "      <th>2627</th>\n",
       "      <td>1</td>\n",
       "      <td>3</td>\n",
       "      <td>2</td>\n",
       "      <td>6</td>\n",
       "      <td>-1</td>\n",
       "      <td>-1</td>\n",
       "      <td>1</td>\n",
       "    </tr>\n",
       "    <tr>\n",
       "      <th>2628</th>\n",
       "      <td>1</td>\n",
       "      <td>-1</td>\n",
       "      <td>-1</td>\n",
       "      <td>3</td>\n",
       "      <td>-1</td>\n",
       "      <td>-1</td>\n",
       "      <td>2</td>\n",
       "    </tr>\n",
       "    <tr>\n",
       "      <th>2629</th>\n",
       "      <td>21</td>\n",
       "      <td>3</td>\n",
       "      <td>0</td>\n",
       "      <td>6</td>\n",
       "      <td>-1</td>\n",
       "      <td>-1</td>\n",
       "      <td>5</td>\n",
       "    </tr>\n",
       "  </tbody>\n",
       "</table>\n",
       "<p>2630 rows × 7 columns</p>\n",
       "</div>"
      ],
      "text/plain": [
       "      vehicle_type  junction_location  skidding_and_overturning  \\\n",
       "0                3                  0                         9   \n",
       "1               19                  8                         0   \n",
       "2               22                  2                         0   \n",
       "3               10                  0                         0   \n",
       "4                4                  1                         2   \n",
       "...            ...                ...                       ...   \n",
       "2625             1                  1                         1   \n",
       "2626             4                  6                         0   \n",
       "2627             1                  3                         2   \n",
       "2628             1                 -1                        -1   \n",
       "2629            21                  3                         0   \n",
       "\n",
       "      age_band_of_driver  generic_make_model  age_of_vehicle  count  \n",
       "0                      5                  -1              -1     28  \n",
       "1                     10                  -1              -1     22  \n",
       "2                      7                  -1              -1      2  \n",
       "3                      5                  -1              -1      1  \n",
       "4                      4                  -1              -1      1  \n",
       "...                  ...                 ...             ...    ...  \n",
       "2625                   9                  -1              -1      5  \n",
       "2626                   8                  -1              -1      1  \n",
       "2627                   6                  -1              -1      1  \n",
       "2628                   3                  -1              -1      2  \n",
       "2629                   6                  -1              -1      5  \n",
       "\n",
       "[2630 rows x 7 columns]"
      ]
     },
     "execution_count": 94,
     "metadata": {},
     "output_type": "execute_result"
    }
   ],
   "source": [
    "\n",
    "Vehicles_Data_temp = Vehicles_Data.groupBy(\"vehicle_type\",\"junction_location\", \n",
    "                                            \"skidding_and_overturning\", \"age_band_of_driver\", \n",
    "                                            \"generic_make_model\", \"age_of_vehicle\").count().toPandas()\n",
    "Vehicles_Data_temp\n"
   ]
  },
  {
   "cell_type": "code",
   "execution_count": 95,
   "id": "b0a59f52-5fc9-4c17-87e5-1e833af18008",
   "metadata": {},
   "outputs": [
    {
     "data": {
      "text/plain": [
       "9     404\n",
       "1     315\n",
       "3     226\n",
       "19    191\n",
       "5     178\n",
       "Name: vehicle_type, dtype: int64"
      ]
     },
     "execution_count": 95,
     "metadata": {},
     "output_type": "execute_result"
    }
   ],
   "source": [
    "\n",
    "temp_vehicle_type = Vehicles_Data_temp['vehicle_type'].value_counts()\n",
    "temp_vehicle_type.head()\n",
    "\n"
   ]
  },
  {
   "cell_type": "code",
   "execution_count": 96,
   "id": "90955c46-4769-4017-8c9d-dc2f99207419",
   "metadata": {},
   "outputs": [
    {
     "data": {
      "text/plain": [
       "Text(0.5, 1.0, 'Frequency of Type of Vehicle in a accident')"
      ]
     },
     "execution_count": 96,
     "metadata": {},
     "output_type": "execute_result"
    },
    {
     "data": {
      "image/png": "[encoded data removed]",
      "text/plain": [
       "<Figure size 864x864 with 1 Axes>"
      ]
     },
     "metadata": {
      "needs_background": "light"
     },
     "output_type": "display_data"
    }
   ],
   "source": [
    "temp_vehicle_type.plot.bar()\n",
    "plt.xlabel('Type of Vehicle')\n",
    "plt.ylabel('Frequency')\n",
    "plt.title('Frequency of Type of Vehicle in a accident')\n",
    "\n"
   ]
  },
  {
   "cell_type": "code",
   "execution_count": 97,
   "id": "bee279b5-be97-4281-9b60-2b7d40f1f3ca",
   "metadata": {},
   "outputs": [
    {
     "name": "stdout",
     "output_type": "stream",
     "text": [
      "vehicle_type  -1     1    2     3    4     5     8      9    10    11  ...  \\\n",
      "count         139  7547  495  3456  659  1488  1132  52684  116  1094  ...   \n",
      "\n",
      "vehicle_type   18    19   20   21   22   23    90   97    98   99  \n",
      "count           6  4663  298  860  105   87  1220  739  1419   12  \n",
      "\n",
      "[1 rows x 22 columns]\n"
     ]
    },
    {
     "data": {
      "text/plain": [
       "Text(0.5, 1.0, 'No of different Type of Vehicles in Casualties ')"
      ]
     },
     "execution_count": 97,
     "metadata": {},
     "output_type": "execute_result"
    },
    {
     "data": {
      "image/png": "[encoded data removed]",
      "text/plain": [
       "<Figure size 864x864 with 1 Axes>"
      ]
     },
     "metadata": {
      "needs_background": "light"
     },
     "output_type": "display_data"
    }
   ],
   "source": [
    "temp_vt = pd.pivot_table(Vehicles_Data_temp, values='count',\n",
    "                    columns=['vehicle_type'], aggfunc=np.sum)\n",
    "\n",
    "print(temp_vt)\n",
    "temp_vt.plot.bar()\n",
    "plt.xlabel('Type of Vehicle')\n",
    "plt.ylabel('No of Casualties')\n",
    "plt.title('No of different Type of Vehicles in Casualties ')"
   ]
  },
  {
   "cell_type": "code",
   "execution_count": 98,
   "id": "e42f6590-1c08-43ea-bc0b-e68744742468",
   "metadata": {},
   "outputs": [
    {
     "data": {
      "text/plain": [
       "0    613\n",
       "1    437\n",
       "8    364\n",
       "2    267\n",
       "4    185\n",
       "Name: junction_location, dtype: int64"
      ]
     },
     "execution_count": 98,
     "metadata": {},
     "output_type": "execute_result"
    }
   ],
   "source": [
    "temp_vehicle_jt = Vehicles_Data_temp['junction_location'].value_counts()\n",
    "temp_vehicle_jt.head()\n",
    "\n"
   ]
  },
  {
   "cell_type": "code",
   "execution_count": 99,
   "id": "b5de47c8-df17-4cef-9d9b-ece106e736c8",
   "metadata": {},
   "outputs": [
    {
     "data": {
      "text/plain": [
       "Text(0.5, 1.0, 'Frequency of Juunction Location in a Casualty')"
      ]
     },
     "execution_count": 99,
     "metadata": {},
     "output_type": "execute_result"
    },
    {
     "data": {
      "image/png": "[encoded data removed]",
      "text/plain": [
       "<Figure size 864x864 with 1 Axes>"
      ]
     },
     "metadata": {
      "needs_background": "light"
     },
     "output_type": "display_data"
    }
   ],
   "source": [
    "temp_vehicle_jt.plot.bar()\n",
    "plt.xlabel('Location of Junction')\n",
    "plt.ylabel('Frequency')\n",
    "plt.title('Frequency of Juunction Location in a Casualty')\n",
    "\n"
   ]
  },
  {
   "cell_type": "code",
   "execution_count": 101,
   "id": "502d5e77-7a40-45d9-8be7-da6fc83c852d",
   "metadata": {},
   "outputs": [
    {
     "name": "stdout",
     "output_type": "stream",
     "text": [
      "junction_location   -1      0      1     2     3     4     5     6    7  \\\n",
      "count              153  30911  17599  4238  1226  2302  1722  3111  227   \n",
      "\n",
      "junction_location      8     9  \n",
      "count              11571  5351  \n"
     ]
    },
    {
     "data": {
      "text/plain": [
       "Text(0.5, 1.0, 'No of different Locations of a Junction contributing to Casualties ')"
      ]
     },
     "execution_count": 101,
     "metadata": {},
     "output_type": "execute_result"
    },
    {
     "data": {
      "image/png": "[encoded data removed]",
      "text/plain": [
       "<Figure size 864x864 with 1 Axes>"
      ]
     },
     "metadata": {
      "needs_background": "light"
     },
     "output_type": "display_data"
    }
   ],
   "source": [
    "temp_jt = pd.pivot_table(Vehicles_Data_temp, values='count',\n",
    "                    columns=['junction_location'], aggfunc=np.sum)\n",
    "\n",
    "print(temp_jt)\n",
    "temp_ct.plot.bar()\n",
    "plt.xlabel('Location of Junction')\n",
    "plt.ylabel('No of Casualties')\n",
    "plt.title('No of different Locations of a Junction contributing to Casualties ')"
   ]
  },
  {
   "cell_type": "code",
   "execution_count": 108,
   "id": "b3bbb08e-302e-4b5a-9267-a5bfec9f0684",
   "metadata": {},
   "outputs": [
    {
     "data": {
      "text/plain": [
       " 6    402\n",
       " 8    347\n",
       " 7    346\n",
       " 9    300\n",
       "-1    297\n",
       "Name: age_band_of_driver, dtype: int64"
      ]
     },
     "execution_count": 108,
     "metadata": {},
     "output_type": "execute_result"
    }
   ],
   "source": [
    "temp_vehicle__driver_age = Vehicles_Data_temp['age_band_of_driver'].value_counts()\n",
    "temp_vehicle__driver_age.head()\n",
    "\n"
   ]
  },
  {
   "cell_type": "code",
   "execution_count": 109,
   "id": "a8629b09-2918-46fa-8bd6-9325e085f66f",
   "metadata": {},
   "outputs": [
    {
     "data": {
      "text/plain": [
       "Text(0.5, 1.0, 'Frequency of Vehicle Driver Age in Casualties')"
      ]
     },
     "execution_count": 109,
     "metadata": {},
     "output_type": "execute_result"
    },
    {
     "data": {
      "image/png": "[encoded data removed]",
      "text/plain": [
       "<Figure size 864x864 with 1 Axes>"
      ]
     },
     "metadata": {
      "needs_background": "light"
     },
     "output_type": "display_data"
    }
   ],
   "source": [
    "temp_vehicle__driver_age.plot.bar()\n",
    "plt.xlabel('Age of Vehicle Driver')\n",
    "plt.ylabel('Frequency')\n",
    "plt.title('Frequency of Vehicle Driver Age in Casualties')\n",
    "\n"
   ]
  },
  {
   "cell_type": "code",
   "execution_count": 111,
   "id": "18fad4a2-355a-4515-82b6-7a8bedc00155",
   "metadata": {},
   "outputs": [
    {
     "name": "stdout",
     "output_type": "stream",
     "text": [
      "age_band_of_driver    -1    1    2    3     4     5      6      7      8   \\\n",
      "count               11069   39  154  790  4842  7673  17620  13021  10873   \n",
      "\n",
      "age_band_of_driver    9     10    11  \n",
      "count               7245  3215  1870  \n"
     ]
    },
    {
     "data": {
      "text/plain": [
       "Text(0.5, 1.0, 'No of Casualties in Vehicle Driver Age Band')"
      ]
     },
     "execution_count": 111,
     "metadata": {},
     "output_type": "execute_result"
    },
    {
     "data": {
      "image/png": "[encoded data removed]",
      "text/plain": [
       "<Figure size 864x864 with 1 Axes>"
      ]
     },
     "metadata": {
      "needs_background": "light"
     },
     "output_type": "display_data"
    }
   ],
   "source": [
    "temp_age_vehicle_driver = pd.pivot_table(Vehicles_Data_temp, values='count',\n",
    "                    columns=['age_band_of_driver'], aggfunc=np.sum)\n",
    "\n",
    "print(temp_age_vehicle_driver)\n",
    "temp_age_vehicle_driver.plot.bar()\n",
    "plt.xlabel('Age Band of Vehicle Driver')\n",
    "plt.ylabel('No of Casualties')\n",
    "plt.title('No of Casualties in Vehicle Driver Age Band')"
   ]
  }
 ],
 "metadata": {
  "kernelspec": {
   "display_name": "Python 3",
   "language": "python",
   "name": "python3"
  },
  "language_info": {
   "codemirror_mode": {
    "name": "ipython",
    "version": 3
   },
   "file_extension": ".py",
   "mimetype": "text/x-python",
   "name": "python",
   "nbconvert_exporter": "python",
   "pygments_lexer": "ipython3",
   "version": "3.8.8"
  }
 },
 "nbformat": 4,
 "nbformat_minor": 5
}
